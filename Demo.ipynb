{
 "cells": [
  {
   "cell_type": "markdown",
   "metadata": {},
   "source": [
    "Inicialización de parametros\n",
    "------------------------------------"
   ]
  },
  {
   "cell_type": "code",
   "execution_count": null,
   "metadata": {
    "collapsed": false
   },
   "outputs": [],
   "source": [
    "%matplotlib inline\n",
    "from Graphs import *\n",
    "\n",
    "path = \"./\"\n",
    "out_path = \"./DemoRuns/\"\n"
   ]
  },
  {
   "cell_type": "markdown",
   "metadata": {},
   "source": [
    "Corrdia de simulación\n",
    "----------------"
   ]
  },
  {
   "cell_type": "code",
   "execution_count": null,
   "metadata": {
    "collapsed": false
   },
   "outputs": [],
   "source": [
    "params = []\n",
    "\n",
    "#Iteraciones membrana\n",
    "params.append(\"it;80\")\n",
    "\n",
    "#Iteraciones dentro de la membrana\n",
    "params.append(\"mit;3\")\n",
    "\n",
    "#densisdad de campo electrico\n",
    "params.append(\"v;0.5\")\n",
    "params.append(\"v;1.0\")\n",
    "params.append(\"v;2.50\")\n",
    "params.append(\"v;3.0\")\n",
    "\n",
    "#geometria celula\n",
    "params.append(\"r;10.0\")\n",
    "params.append(\"m;0.005\")\n",
    "\n",
    "\n",
    "#Poisson\n",
    "#                in ; mem ; out\n",
    "params.append(\"p;0.499;0.49;0.499\")\n",
    "#Sigma\n",
    "#                in ; mem ; out\n",
    "params.append(\"s;0.0000005;0.0000000000001;0.00000002\")\n",
    "#Young\n",
    "#                in ; mem ; out\n",
    "params.append(\"y;0.000001;0.000003;0.0000001\")\n",
    "\n",
    "\n",
    "params.append(\"path;\" + out_path + \"\")\n",
    "\n",
    "cadena = \"\"\n",
    "\n",
    "for p in params:\n",
    "    cadena = cadena + p + \" \"\n",
    "\n",
    "%run {path}Runs.py {cadena}\n"
   ]
  },
  {
   "cell_type": "markdown",
   "metadata": {},
   "source": [
    "Análisis de resultados\n",
    "--------------------"
   ]
  },
  {
   "cell_type": "code",
   "execution_count": null,
   "metadata": {
    "collapsed": false
   },
   "outputs": [],
   "source": [
    "simulado_force = {}\n",
    "simulado_defor = {}\n",
    "\n",
    "\n",
    "simulado_defor.update(get_simulation_defor(out_path, \"Values.txt\"))\n",
    "simulado_force.update(get_simulation_force(out_path, \"Values.txt\"))\n",
    "\n",
    "plot_force_defor(simulado_defor,simulado_force,True)\n"
   ]
  }
 ],
 "metadata": {
  "anaconda-cloud": {},
  "kernelspec": {
   "display_name": "Python [Root]",
   "language": "python",
   "name": "Python [Root]"
  },
  "language_info": {
   "codemirror_mode": {
    "name": "ipython",
    "version": 3
   },
   "file_extension": ".py",
   "mimetype": "text/x-python",
   "name": "python",
   "nbconvert_exporter": "python",
   "pygments_lexer": "ipython3",
   "version": "3.5.2"
  }
 },
 "nbformat": 4,
 "nbformat_minor": 1
}
